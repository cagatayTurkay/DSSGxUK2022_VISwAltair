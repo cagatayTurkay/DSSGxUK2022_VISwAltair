{
 "cells": [
  {
   "cell_type": "markdown",
   "metadata": {},
   "source": [
    "*If time allows (if not,go through this at your own time)*\n",
    "\n",
    "\n",
    "\n",
    "**Prepatory Step!** For this exercise, we will load and visualise some spatial data. Altair has some useful functions but for this exercise, we will use the geopandas.\n",
    "\n",
    "First, check if you have geopandas installed by trying to run the following in a cell:\n",
    "\n",
    "`import geopandas as gpd`\n",
    "\n",
    "If you don't get  errors, great, skip the installation. \n",
    "\n",
    "If you get errors that there is no such library, time to install geopandas.\n",
    "\n",
    "1 - Stop the Anaconda kernel so that you can install the package.\n",
    "\n",
    "2 - Go to a terminal and then install geopandas by typing the below into the terminal and pressing enter.\n",
    "\n",
    "`pip install geopandas`\n",
    "\n",
    "This should install the package. Now restart Jupyter Notebook and you should be able to run this exercise with no issues.\n",
    "\n",
    "# Choropleths and how (not) to skew a message with visualisations\n",
    "A visualisation often shown is a choropleth. This is a series of spatial polygons (such as states in the USA) which are coloured by a feature. Here we will look at creating choropleths of polling data in the recent USA election.\n",
    "\n",
    "Load in two datasets. One contains the geospatial polygons of the states in America and the other is the polling data we used in the last notebook. "
   ]
  },
  {
   "cell_type": "code",
   "execution_count": null,
   "metadata": {},
   "outputs": [],
   "source": [
    "import geopandas as gpd \n",
    "import pandas as pd\n",
    "import altair as alt\n",
    "\n",
    "geo_states = gpd.read_file('gz_2010_us_040_00_500k.json')\n",
    "df_polls = pd.read_csv('presidential_poll_averages_2020.csv')"
   ]
  },
  {
   "cell_type": "markdown",
   "metadata": {},
   "source": [
    "Filter our poll data to a specific date."
   ]
  },
  {
   "cell_type": "code",
   "execution_count": null,
   "metadata": {},
   "outputs": [],
   "source": [
    "df_nov = df_polls[\n",
    "    (df_polls.modeldate == '11/3/2020')\n",
    "]\n",
    "\n",
    "df_nov_states = df_nov[\n",
    "    (df_nov.candidate_name == 'Donald Trump') |\n",
    "    (df_nov.candidate_name == 'Joseph R. Biden Jr.')\n",
    "]"
   ]
  },
  {
   "cell_type": "markdown",
   "metadata": {},
   "source": [
    "The geo_states variable has polygons for each state."
   ]
  },
  {
   "cell_type": "code",
   "execution_count": null,
   "metadata": {},
   "outputs": [],
   "source": [
    "geo_states.head()"
   ]
  },
  {
   "cell_type": "code",
   "execution_count": null,
   "metadata": {},
   "outputs": [],
   "source": [
    "alt.Chart(geo_states, title='US states').mark_geoshape().encode(\n",
    ").properties(\n",
    "    width=500,\n",
    "    height=300\n",
    ").project(\n",
    "    type='albersUsa'\n",
    ")"
   ]
  },
  {
   "cell_type": "markdown",
   "metadata": {},
   "source": [
    "We want to put the percentage estimates for each candidate onto the map. First, let us create a dataframe containing the data for each candidate."
   ]
  },
  {
   "cell_type": "code",
   "execution_count": null,
   "metadata": {},
   "outputs": [],
   "source": [
    "trump_data = df_nov_states[\n",
    "    df_nov_states.candidate_name == 'Donald Trump'\n",
    "]\n",
    "\n",
    "biden_data = df_nov_states[\n",
    "    df_nov_states.candidate_name == 'Joseph R. Biden Jr.'\n",
    "]"
   ]
  },
  {
   "cell_type": "markdown",
   "metadata": {},
   "source": [
    "Our spatial and poll data have the name of the state in common. We will change the name of the state to NAME to match our geospatial dataframe."
   ]
  },
  {
   "cell_type": "code",
   "execution_count": null,
   "metadata": {},
   "outputs": [],
   "source": [
    "trump_data.columns = ['cycle', 'NAME', 'modeldate', 'candidate_name', 'pct_estimate', 'pct_trend_adjusted']\n",
    "biden_data.columns = ['cycle', 'NAME', 'modeldate', 'candidate_name', 'pct_estimate', 'pct_trend_adjusted']"
   ]
  },
  {
   "cell_type": "markdown",
   "metadata": {},
   "source": [
    "We can join the geospatial and poll data using the NAME column (the name of the state)."
   ]
  },
  {
   "cell_type": "code",
   "execution_count": null,
   "metadata": {},
   "outputs": [],
   "source": [
    "# Create seperate date frame for trump and biden\n",
    "# Add the poll data\n",
    "geo_states_trump = geo_states.merge(trump_data, on='NAME')\n",
    "geo_states_biden = geo_states.merge(biden_data, on='NAME')"
   ]
  },
  {
   "cell_type": "code",
   "execution_count": null,
   "metadata": {},
   "outputs": [],
   "source": [
    "geo_states_trump.head()"
   ]
  },
  {
   "cell_type": "code",
   "execution_count": null,
   "metadata": {},
   "outputs": [],
   "source": [
    "geo_states_biden.head()"
   ]
  },
  {
   "cell_type": "markdown",
   "metadata": {},
   "source": [
    "Joe Biden is clearly winning. Can we make it look like he is not?"
   ]
  },
  {
   "cell_type": "markdown",
   "metadata": {},
   "source": [
    "We can plot this specifying the feature to use for our colour."
   ]
  },
  {
   "cell_type": "code",
   "execution_count": null,
   "metadata": {},
   "outputs": [],
   "source": [
    "alt.Chart(geo_states_trump, title='Poll estimate for Donald Trump on 11/3/2020').mark_geoshape().encode(\n",
    "    color='pct_estimate',\n",
    "    tooltip=['NAME', 'pct_estimate']\n",
    ").properties(\n",
    "    width=500,\n",
    "    height=300\n",
    ").project(\n",
    "    type='albersUsa'\n",
    ")"
   ]
  },
  {
   "cell_type": "markdown",
   "metadata": {},
   "source": [
    "To smooth out any differences we can bin our data."
   ]
  },
  {
   "cell_type": "code",
   "execution_count": null,
   "metadata": {},
   "outputs": [],
   "source": [
    "alt.Chart(geo_states_trump, title='Poll estimate for Donald Trump on 11/3/2020').mark_geoshape().encode(\n",
    "    alt.Color('pct_estimate', bin=alt.Bin(step=35)),\n",
    "    tooltip=['NAME', 'pct_estimate']\n",
    ").properties(\n",
    "    width=500,\n",
    "    height=300\n",
    ").project(\n",
    "    type='albersUsa'\n",
    ")"
   ]
  },
  {
   "cell_type": "markdown",
   "metadata": {},
   "source": [
    "How would you interpret the plot above?\n",
    "\n",
    "What about if we increase the binstep so we have more bins?"
   ]
  },
  {
   "cell_type": "code",
   "execution_count": null,
   "metadata": {},
   "outputs": [],
   "source": [
    "alt.Chart(geo_states_trump, title='Poll estimate for Donald Trump on 11/3/2020').mark_geoshape().encode(\n",
    "    alt.Color('pct_estimate', bin=alt.Bin(step=5)),\n",
    "    tooltip=['NAME', 'pct_estimate']\n",
    ").properties(\n",
    "    width=500,\n",
    "    height=300\n",
    ").project(\n",
    "    type='albersUsa'\n",
    ")"
   ]
  },
  {
   "cell_type": "markdown",
   "metadata": {},
   "source": [
    "Perhaps try different step sizes for the bins and consider how bins can shape our interpretation of the data. What would happen if plots with different bin sizes were placed side to side.\n",
    "\n",
    "To add further confusion, what happens when we log scale the data?"
   ]
  },
  {
   "cell_type": "code",
   "execution_count": null,
   "metadata": {},
   "outputs": [],
   "source": [
    "alt.Chart(geo_states_trump, title='Poll estimate for Donald Trump on 11/3/2020').mark_geoshape().encode(\n",
    "    alt.Color('pct_estimate', bin=alt.Bin(step=5), scale=alt.Scale(type='log')),\n",
    "    tooltip=['NAME', 'pct_estimate']\n",
    ").properties(\n",
    "    width=500,\n",
    "    height=300\n",
    ").project(\n",
    "    type='albersUsa'\n",
    ")"
   ]
  },
  {
   "cell_type": "markdown",
   "metadata": {},
   "source": [
    "vs"
   ]
  },
  {
   "cell_type": "code",
   "execution_count": null,
   "metadata": {},
   "outputs": [],
   "source": [
    "alt.Chart(geo_states_biden, title='Poll estimate for Joe Biden on 11/3/2020').mark_geoshape().encode(\n",
    "    alt.Color('pct_estimate', bin=alt.Bin(step=5), scale=alt.Scale(type='log')),\n",
    "    tooltip=['NAME', 'pct_estimate']\n",
    ").properties(\n",
    "    width=500,\n",
    "    height=300\n",
    ").project(\n",
    "    type='albersUsa'\n",
    ")"
   ]
  },
  {
   "cell_type": "markdown",
   "metadata": {},
   "source": [
    "What is happening here?!?!\n",
    "\n",
    "Next up, what about the colours we use and the range of values assigned to each color? Code inspired by/taken from [here](https://colab.research.google.com/drive/1PePamFUfrgvN3ZYaN8fWfP8ovIJ0gyre#scrollTo=Poo1da-8u3cX)."
   ]
  },
  {
   "cell_type": "code",
   "execution_count": null,
   "metadata": {},
   "outputs": [],
   "source": [
    "alt.Chart(geo_states_trump, title='Poll estimate for Donal Trump on 11/3/2020').mark_geoshape().encode(\n",
    "    alt.Color('pct_estimate',\n",
    "    scale=alt.Scale(type=\"linear\",\n",
    "              domain=[10, 40, 50, 55, 60, 61, 62],\n",
    "                          range=[\"#414487\",\"#414487\",\n",
    "                                 \"#355f8d\",\"#355f8d\",\n",
    "                                 \"#2a788e\",\n",
    "                                 \"#fde725\",\"#fde725\"])),\n",
    "    tooltip=['NAME', 'pct_estimate']\n",
    ").properties(\n",
    "    width=500,\n",
    "    height=300\n",
    ").project(\n",
    "    type='albersUsa'\n",
    ")"
   ]
  },
  {
   "cell_type": "markdown",
   "metadata": {},
   "source": [
    "Compare that with"
   ]
  },
  {
   "cell_type": "code",
   "execution_count": null,
   "metadata": {},
   "outputs": [],
   "source": [
    "alt.Chart(geo_states_trump, title='Poll estimate for Donald Trump on 11/3/2020').mark_geoshape().encode(\n",
    "    alt.Color('pct_estimate',\n",
    "    scale=alt.Scale(type=\"linear\",\n",
    "              domain=[10, 20, 30, 35, 68, 70, 100],\n",
    "                          range=[\"#414487\",\"#414487\",\n",
    "                                 \"#7ad151\",\"#7ad151\",\n",
    "                                 \"#bddf26\",\n",
    "                                 \"#fde725\",\"#fde725\"])),\n",
    "    tooltip=['NAME', 'pct_estimate']\n",
    ").properties(\n",
    "    width=500,\n",
    "    height=300\n",
    ").project(\n",
    "    type='albersUsa'\n",
    ")"
   ]
  },
  {
   "cell_type": "markdown",
   "metadata": {},
   "source": [
    "My goodness! So what have we played around with?\n",
    "\n",
    "* Transforming our scale using log\n",
    "* Binning our data to smooth out variances\n",
    "* Altering our colour scheme and the ranges for each colour\n",
    "\n",
    "... what about if we remove the legend?"
   ]
  },
  {
   "cell_type": "code",
   "execution_count": null,
   "metadata": {},
   "outputs": [],
   "source": [
    "alt.Chart(geo_states_trump, title='Poll estimate for Donald Trump on 11/3/2020').mark_geoshape().encode(\n",
    "    alt.Color('pct_estimate',\n",
    "    scale=alt.Scale(type=\"linear\",\n",
    "              domain=[10, 20, 30, 35, 68, 70, 100],\n",
    "                          range=[\"#414487\",\"#414487\",\n",
    "                                 \"#7ad151\",\"#7ad151\",\n",
    "                                 \"#bddf26\",\n",
    "                                 \"#fde725\",\"#fde725\"]),\n",
    "                                 legend=None),\n",
    "    tooltip=['NAME', 'pct_estimate']\n",
    ").properties(\n",
    "    width=500,\n",
    "    height=300\n",
    ").project(\n",
    "    type='albersUsa'\n",
    ")"
   ]
  },
  {
   "cell_type": "markdown",
   "metadata": {},
   "source": [
    "Good luck trying to interpret that. Though we often see maps without legends and with questionable colour schemes on TV.\n",
    "\n",
    "How do you think choropleths should be displayed? What information does a use need to understand the message communicated in these plots?"
   ]
  }
 ],
 "metadata": {
  "kernelspec": {
   "display_name": "Python 3",
   "language": "python",
   "name": "python3"
  },
  "language_info": {
   "codemirror_mode": {
    "name": "ipython",
    "version": 3
   },
   "file_extension": ".py",
   "mimetype": "text/x-python",
   "name": "python",
   "nbconvert_exporter": "python",
   "pygments_lexer": "ipython3",
   "version": "3.7.7"
  }
 },
 "nbformat": 4,
 "nbformat_minor": 4
}
